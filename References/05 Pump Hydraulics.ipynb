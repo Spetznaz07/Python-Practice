{
 "cells": [
  {
   "cell_type": "markdown",
   "metadata": {},
   "source": [
    "# 05 Introduction to Pump Hydraulics using Fluids module\n",
    "---\n",
    "\n",
    "## Introduction 🌊\n",
    "\n",
    "## What is Fluids?\n",
    "[![Fluids](https://img.shields.io/badge/Fluids-8CAAE6?style=flat&logo=Fluids&logoColor=black)](https://pypi.org/project/fluids/) is a free and open-source Python library used for scientific computing and technical computing.\n",
    "\n",
    "Fluids is open-source software for engineers and technicians working in the fields of chemical, mechanical, or civil engineering. It includes modules for piping, fittings, pumps, tanks, compressible flow, open-channel flow, atmospheric properties, solar properties, particle size distributions, two phase flow, friction factors, control valves, orifice plates and other flow meters, ejectors, relief valves, and more.\n",
    "\n",
    "The fluids library is designed to be a low-overhead, lightweight repository of engineering knowledge and utilities that relate to fluid dynamics.\n",
    "\n",
    "Fluids was originally tightly integrated with SciPy and NumPy; today they are optional components used for only a small amount of functionality which do not have pure-Python numerical methods implemented. Fluids targets Python 2.7 and up as well as PyPy2 and PyPy3. Additionally, fluids has been tested by the author to load in IronPython, Jython, and micropython.\n",
    "\n",
    "While the routines in Fluids are normally quite fast and as efficiently coded as possible, depending on the application there can still be a need for further speed. PyPy provides a substantial speed boost of 6-12 times for most methods. Fluids also supports Numba, a powerful accelerator that works well with NumPy. The Numba interface to fluids also makes it easy to multithread execution as well, avoiding Python GIL issue.\n",
    "\n",
    "Fluids runs on all operating systems which support Python, is quick to install, and is free of charge. Fluids is designed to be easy to use while still providing powerful functionality. If you need to perform some fluid dynamics calculations, give fluids a try."
   ]
  },
  {
   "cell_type": "code",
   "execution_count": 2,
   "metadata": {},
   "outputs": [],
   "source": [
    "import fluids #Importing fluids \n",
    "import math #Importing mathematics \n",
    "import thermo #Importing thermodynamics for properties"
   ]
  },
  {
   "cell_type": "markdown",
   "metadata": {},
   "source": [
    "## Problem 1\n",
    "\n",
    "Given that a pump is located 30 feet above sea level, has a NPSHr of 20’ at a flow rate of 400 gpm, and is fed by a tank of 60 deg F water with a surface pressure of 5 psig and a liquid level 25’ below the suction of the pump.\n",
    "\n",
    "The head losses in the suction pipeline are 6’.\n",
    "\n",
    "Find the NPSH available and compare it to the NPSHr. A NPSHr margin ratio is required"
   ]
  },
  {
   "cell_type": "code",
   "execution_count": 3,
   "metadata": {},
   "outputs": [
    {
     "data": {
      "text/html": [
       "13.887316780096477 foot"
      ],
      "text/latex": [
       "$13.887316780096477\\ \\mathrm{foot}$"
      ],
      "text/plain": [
       "13.887316780096477 <Unit('foot')>"
      ]
     },
     "execution_count": 3,
     "metadata": {},
     "output_type": "execute_result"
    }
   ],
   "source": [
    "from fluids.units import *\n",
    "rho = 62.364*u.lb/u.ft**3\n",
    "P_tank = 5*u.psi + 1*u.atm\n",
    "Psat = 0.256*u.psi\n",
    "H_tank = 5*u.foot\n",
    "H_pipe = 30*u.foot\n",
    "dH = H_pipe - H_tank\n",
    "\n",
    "head_loss = 6*u.foot\n",
    "\n",
    "NPSHa = ((P_tank-Psat)/rho/u.gravity) - dH - head_loss\n",
    "(NPSHa).to(u.foot)"
   ]
  },
  {
   "cell_type": "markdown",
   "metadata": {},
   "source": [
    "## Problem 2\n",
    "\n",
    "Given that a pump is located 30-60 feet above sea level, has a NPSHr of 20’ at a flow rate of 400 gpm, and is fed by a tank of 60 deg F water with a surface pressure of 5 psig and a liquid level 25’ below the suction of the pump.\n",
    "\n",
    "The head losses in the suction pipeline are 6’.\n",
    "\n",
    "Find the NPSH available and compare it to the NPSHr. A NPSHr margin ratio is required"
   ]
  },
  {
   "cell_type": "code",
   "execution_count": 10,
   "metadata": {},
   "outputs": [
    {
     "data": {
      "text/html": [
       "<table><tbody><tr><th>Magnitude</th><td style='text-align:left;'><pre>[13.887316780096477 10.553983446763139 7.220650113429807 3.88731678009647<br> 0.5539834467631332 -2.7793498865701998 -6.112683219903532<br> -9.446016553236873 -12.779349886570206 -16.112683219903538]</pre></td></tr><tr><th>Units</th><td style='text-align:left;'>foot</td></tr></tbody></table>"
      ],
      "text/latex": [
       "$\\begin{pmatrix}13.887316780096477 & 10.553983446763139 & 7.220650113429807 & 3.88731678009647 & 0.5539834467631332 & -2.7793498865701998 & -6.112683219903532 & -9.446016553236873 & -12.779349886570206 & -16.112683219903538\\end{pmatrix}\\ \\mathrm{foot}$"
      ],
      "text/plain": [
       "array([ 13.88731678,  10.55398345,   7.22065011,   3.88731678,\n",
       "         0.55398345,  -2.77934989,  -6.11268322,  -9.44601655,\n",
       "       -12.77934989, -16.11268322]) <Unit('foot')>"
      ]
     },
     "execution_count": 10,
     "metadata": {},
     "output_type": "execute_result"
    }
   ],
   "source": [
    "import numpy as np\n",
    "from fluids.units import *\n",
    "rho = 62.364*u.lb/u.ft**3\n",
    "P_tank = 5*u.psi + 1*u.atm\n",
    "Psat = 0.256*u.psi\n",
    "H_tank = 5*u.foot\n",
    "H_pipe = np.linspace(30*u.foot,60*u.foot,10)\n",
    "dH = H_pipe - H_tank\n",
    "\n",
    "head_loss = 6*u.foot\n",
    "\n",
    "NPSHa = ((P_tank-Psat)/rho/u.gravity) - dH - head_loss\n",
    "(NPSHa).to(u.foot)"
   ]
  },
  {
   "cell_type": "code",
   "execution_count": 15,
   "metadata": {},
   "outputs": [
    {
     "name": "stderr",
     "output_type": "stream",
     "text": [
      "c:\\Users\\viraj\\AppData\\Local\\Programs\\Python\\Python39\\lib\\site-packages\\numpy\\core\\_asarray.py:102: UnitStrippedWarning: The unit of the quantity is stripped when downcasting to ndarray.\n",
      "  return array(a, dtype, copy=False, order=order)\n"
     ]
    },
    {
     "data": {
      "image/png": "[encoded data removed]",
      "text/plain": [
       "<Figure size 432x288 with 1 Axes>"
      ]
     },
     "metadata": {
      "needs_background": "light"
     },
     "output_type": "display_data"
    }
   ],
   "source": [
    "import matplotlib.pyplot as plt\n",
    "plt.plot(H_pipe,NPSHa)\n",
    "plt.grid()\n",
    "plt.xlabel('Head loss')\n",
    "plt.ylabel('Flow rate')\n",
    "plt.show()"
   ]
  },
  {
   "cell_type": "code",
   "execution_count": null,
   "metadata": {},
   "outputs": [],
   "source": []
  }
 ],
 "metadata": {
  "kernelspec": {
   "display_name": "Python 3.9.2 64-bit",
   "language": "python",
   "name": "python3"
  },
  "language_info": {
   "codemirror_mode": {
    "name": "ipython",
    "version": 3
   },
   "file_extension": ".py",
   "mimetype": "text/x-python",
   "name": "python",
   "nbconvert_exporter": "python",
   "pygments_lexer": "ipython3",
   "version": "3.9.2"
  },
  "vscode": {
   "interpreter": {
    "hash": "04d3f64a3b4064fd924ec1789481681d8cf614ac32e465ddc035ca363d369555"
   }
  }
 },
 "nbformat": 4,
 "nbformat_minor": 4
}
