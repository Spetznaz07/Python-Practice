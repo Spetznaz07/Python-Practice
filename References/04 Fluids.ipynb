{
 "cells": [
  {
   "cell_type": "markdown",
   "metadata": {},
   "source": [
    "# 04 Introduction to Fluids Module\n",
    "---\n",
    "\n",
    "## Introduction 🌊\n",
    "\n",
    "### What is Fluids?\n",
    "[![Fluids](https://img.shields.io/badge/Fluids-8CAAE6?style=flat&logo=Fluids&logoColor=black)](https://pypi.org/project/fluids/) is a free and open-source Python library used for scientific computing and technical computing.\n",
    "\n",
    "Fluids is open-source software for engineers and technicians working in the fields of chemical, mechanical, or civil engineering. It includes modules for piping, fittings, pumps, tanks, compressible flow, open-channel flow, atmospheric properties, solar properties, particle size distributions, two phase flow, friction factors, control valves, orifice plates and other flow meters, ejectors, relief valves, and more.\n",
    "\n",
    "The fluids library is designed to be a low-overhead, lightweight repository of engineering knowledge and utilities that relate to fluid dynamics.\n",
    "\n",
    "Fluids was originally tightly integrated with SciPy and NumPy; today they are optional components used for only a small amount of functionality which do not have pure-Python numerical methods implemented. Fluids targets Python 2.7 and up as well as PyPy2 and PyPy3. Additionally, fluids has been tested by the author to load in IronPython, Jython, and micropython.\n",
    "\n",
    "While the routines in Fluids are normally quite fast and as efficiently coded as possible, depending on the application there can still be a need for further speed. PyPy provides a substantial speed boost of 6-12 times for most methods. Fluids also supports Numba, a powerful accelerator that works well with NumPy. The Numba interface to fluids also makes it easy to multithread execution as well, avoiding Python GIL issue.\n",
    "\n",
    "Fluids runs on all operating systems which support Python, is quick to install, and is free of charge. Fluids is designed to be easy to use while still providing powerful functionality. If you need to perform some fluid dynamics calculations, give fluids a try."
   ]
  },
  {
   "cell_type": "code",
   "execution_count": 92,
   "metadata": {},
   "outputs": [],
   "source": [
    "import fluids #Importing fluids \n",
    "import math #Importing mathematics \n",
    "import thermo #Importing thermodynamics for properties"
   ]
  },
  {
   "cell_type": "markdown",
   "metadata": {},
   "source": [
    "## Problem 1\n",
    "\n",
    "Water at 30 degrees Celsius flows through a 20 m length of 50 mm plastic (smooth wall) pipe, at a flow rate of 200 L/min.\n",
    "\n",
    "Calculate the Reynolds number and friction factor."
   ]
  },
  {
   "cell_type": "code",
   "execution_count": 93,
   "metadata": {},
   "outputs": [],
   "source": [
    "from fluids.units import  * # * means all fxn are now imported\n",
    "from thermo.units import Stream # stream\n",
    "from math import * # * means all fxn are now imported"
   ]
  },
  {
   "cell_type": "code",
   "execution_count": 94,
   "metadata": {},
   "outputs": [
    {
     "data": {
      "text/html": [
       "0.2 meter<sup>3</sup>/minute"
      ],
      "text/latex": [
       "$0.2\\ \\frac{\\mathrm{meter}^{3}}{\\mathrm{minute}}$"
      ],
      "text/plain": [
       "0.2 <Unit('meter ** 3 / minute')>"
      ]
     },
     "execution_count": 94,
     "metadata": {},
     "output_type": "execute_result"
    }
   ],
   "source": [
    "Q = 0.2*u.m**3/u.min #Defining flow rate\n",
    "Q"
   ]
  },
  {
   "cell_type": "code",
   "execution_count": 95,
   "metadata": {},
   "outputs": [
    {
     "data": {
      "text/html": [
       "30 degree_Celsius"
      ],
      "text/latex": [
       "$30\\ \\mathrm{degree\\_Celsius}$"
      ],
      "text/plain": [
       "30 <Unit('degree_Celsius')>"
      ]
     },
     "execution_count": 95,
     "metadata": {},
     "output_type": "execute_result"
    }
   ],
   "source": [
    "T = 30*u.degC #Defining temperature\n",
    "T"
   ]
  },
  {
   "cell_type": "code",
   "execution_count": 96,
   "metadata": {},
   "outputs": [
    {
     "data": {
      "text/html": [
       "2 bar"
      ],
      "text/latex": [
       "$2\\ \\mathrm{bar}$"
      ],
      "text/plain": [
       "2 <Unit('bar')>"
      ]
     },
     "execution_count": 96,
     "metadata": {},
     "output_type": "execute_result"
    }
   ],
   "source": [
    "P = 2*u.bar # assumed pressure in the line\n",
    "P"
   ]
  },
  {
   "cell_type": "code",
   "execution_count": 97,
   "metadata": {},
   "outputs": [
    {
     "data": {
      "text/plain": [
       "<Stream, components=['water'], mole fractions=[1.0], mass flow=3.3166445200262986 kg/s, mole flow=184.10174696292805 mol/s, T=303.15 K, P=200000 Pa>"
      ]
     },
     "execution_count": 97,
     "metadata": {},
     "output_type": "execute_result"
    }
   ],
   "source": [
    "water = Stream('water', T=T, P=P, Q=Q) #Defining a variable named water and calling properties from thermo package\n",
    "water"
   ]
  },
  {
   "cell_type": "code",
   "execution_count": 98,
   "metadata": {},
   "outputs": [
    {
     "data": {
      "text/plain": [
       "(2 <Unit('dimensionless')>,\n",
       " 0.05248 <Unit('meter')>,\n",
       " 0.0603 <Unit('meter')>,\n",
       " 0.00391 <Unit('meter')>)"
      ]
     },
     "execution_count": 98,
     "metadata": {},
     "output_type": "execute_result"
    }
   ],
   "source": [
    "NPS, Di, Do, t = nearest_pipe(Di=0.05*u.m) #Calling data from pipe database\n",
    "NPS, Di, Do, t"
   ]
  },
  {
   "cell_type": "code",
   "execution_count": 99,
   "metadata": {},
   "outputs": [
    {
     "data": {
      "text/html": [
       "92.45969608160561 meter/minute"
      ],
      "text/latex": [
       "$92.45969608160561\\ \\frac{\\mathrm{meter}}{\\mathrm{minute}}$"
      ],
      "text/plain": [
       "92.45969608160561 <Unit('meter / minute')>"
      ]
     },
     "execution_count": 99,
     "metadata": {},
     "output_type": "execute_result"
    }
   ],
   "source": [
    "v = Q/(pi/4*Di**2) #Defining velocity Volumetirc flow rate / Cross sectional area\n",
    "v #Velocity is hypothetical"
   ]
  },
  {
   "cell_type": "code",
   "execution_count": 100,
   "metadata": {},
   "outputs": [
    {
     "name": "stdout",
     "output_type": "stream",
     "text": [
      "Reynolds number = 98175.54427341053 dimensionless\n"
     ]
    }
   ],
   "source": [
    "Re = Reynolds(D=Di, rho=water.rho, mu=water.mu, V=v)\n",
    "print('Reynolds number = %s' %Re)"
   ]
  },
  {
   "cell_type": "code",
   "execution_count": 101,
   "metadata": {},
   "outputs": [
    {
     "name": "stdout",
     "output_type": "stream",
     "text": [
      "Darcy friction factor = 0.018212892385739768 dimensionless\n"
     ]
    }
   ],
   "source": [
    "fd = friction_factor(Re=Re, eD=_roughness['Glass']/Di)\n",
    "print('Darcy friction factor = %s' %fd)"
   ]
  },
  {
   "cell_type": "markdown",
   "metadata": {},
   "source": [
    "## Problem 2 \n",
    "\n",
    "Fuel oil at a specific gravity of 0.815 (kinematic viscosity of 2.7 centistokes) flows at 2 inch, schedule 40 steel pipe 100 foot long at a rate of 2 US gallons/second.\n",
    "\n",
    "Calculate the pressure drop in bars and psi."
   ]
  },
  {
   "cell_type": "code",
   "execution_count": 104,
   "metadata": {},
   "outputs": [],
   "source": [
    "#Defining inputs\n",
    "SG = 0.815 # Specific gravity"
   ]
  },
  {
   "cell_type": "code",
   "execution_count": 105,
   "metadata": {},
   "outputs": [
    {
     "data": {
      "text/html": [
       "814.2665 kilogram/meter<sup>3</sup>"
      ],
      "text/latex": [
       "$814.2665\\ \\frac{\\mathrm{kilogram}}{\\mathrm{meter}^{3}}$"
      ],
      "text/plain": [
       "814.2665 <Unit('kilogram / meter ** 3')>"
      ]
     },
     "execution_count": 105,
     "metadata": {},
     "output_type": "execute_result"
    }
   ],
   "source": [
    "rho = SG*999.1*u.kg/u.m**3 # Converting into density\n",
    "rho"
   ]
  },
  {
   "cell_type": "code",
   "execution_count": 106,
   "metadata": {},
   "outputs": [
    {
     "data": {
      "text/html": [
       "2.7 centistokes"
      ],
      "text/latex": [
       "$2.7\\ \\mathrm{centistokes}$"
      ],
      "text/plain": [
       "2.7 <Unit('centistokes')>"
      ]
     },
     "execution_count": 106,
     "metadata": {},
     "output_type": "execute_result"
    }
   ],
   "source": [
    "nu = 2.7*u.centistokes # Kinematic viscosity\n",
    "nu"
   ]
  },
  {
   "cell_type": "code",
   "execution_count": 107,
   "metadata": {},
   "outputs": [
    {
     "data": {
      "text/html": [
       "0.0021985195500000007 pascal second"
      ],
      "text/latex": [
       "$0.0021985195500000007\\ \\mathrm{pascal} \\cdot \\mathrm{second}$"
      ],
      "text/plain": [
       "0.0021985195500000007 <Unit('pascal * second')>"
      ]
     },
     "execution_count": 107,
     "metadata": {},
     "output_type": "execute_result"
    }
   ],
   "source": [
    "mu = nu_mu_converter(rho,  nu=nu) # Converting into abs viscosity\n",
    "mu"
   ]
  },
  {
   "cell_type": "code",
   "execution_count": 108,
   "metadata": {},
   "outputs": [
    {
     "data": {
      "text/html": [
       "2.0 gallon/second"
      ],
      "text/latex": [
       "$2.0\\ \\frac{\\mathrm{gallon}}{\\mathrm{second}}$"
      ],
      "text/plain": [
       "2.0 <Unit('gallon / second')>"
      ]
     },
     "execution_count": 108,
     "metadata": {},
     "output_type": "execute_result"
    }
   ],
   "source": [
    "Q = 2*u.gal/u.s # Flow rate\n",
    "Q"
   ]
  },
  {
   "cell_type": "code",
   "execution_count": 109,
   "metadata": {},
   "outputs": [
    {
     "data": {
      "text/html": [
       "100 foot"
      ],
      "text/latex": [
       "$100\\ \\mathrm{foot}$"
      ],
      "text/plain": [
       "100 <Unit('foot')>"
      ]
     },
     "execution_count": 109,
     "metadata": {},
     "output_type": "execute_result"
    }
   ],
   "source": [
    "L = 100*u.foot # Length\n",
    "L"
   ]
  },
  {
   "cell_type": "code",
   "execution_count": 110,
   "metadata": {},
   "outputs": [
    {
     "data": {
      "text/plain": [
       "(2 <Unit('dimensionless')>,\n",
       " 0.05248 <Unit('meter')>,\n",
       " 0.0603 <Unit('meter')>,\n",
       " 0.00391 <Unit('meter')>)"
      ]
     },
     "execution_count": 110,
     "metadata": {},
     "output_type": "execute_result"
    }
   ],
   "source": [
    "NPS, D_pipe, Do_pipe, t = nearest_pipe(Di=2*u.inch) #Calling from piping database\n",
    "NPS, D_pipe, Do_pipe, t"
   ]
  },
  {
   "cell_type": "code",
   "execution_count": 112,
   "metadata": {},
   "outputs": [
    {
     "data": {
      "text/html": [
       "924.5969608160561 gallon/(meter<sup>2</sup> second)"
      ],
      "text/latex": [
       "$924.5969608160561\\ \\frac{\\mathrm{gallon}}{\\left(\\mathrm{meter}^{2} \\cdot \\mathrm{second}\\right)}$"
      ],
      "text/plain": [
       "924.5969608160561 <Unit('gallon / meter ** 2 / second')>"
      ]
     },
     "execution_count": 112,
     "metadata": {},
     "output_type": "execute_result"
    }
   ],
   "source": [
    "v = Q/(pi/4*D_pipe**2) #Defining velocity Q/A\n",
    "v"
   ]
  },
  {
   "cell_type": "code",
   "execution_count": 150,
   "metadata": {},
   "outputs": [
    {
     "data": {
      "text/html": [
       "40670.93582448257 dimensionless"
      ],
      "text/latex": [
       "$40670.93582448257\\ dimensionless$"
      ],
      "text/plain": [
       "40670.93582448257 <Unit('dimensionless')>"
      ]
     },
     "execution_count": 150,
     "metadata": {},
     "output_type": "execute_result"
    }
   ],
   "source": [
    "Re = Reynolds(rho=rho, mu=mu, D=D_pipe, V=v) #Calculating reynolds numbers\n",
    "Re"
   ]
  },
  {
   "cell_type": "code",
   "execution_count": 151,
   "metadata": {},
   "outputs": [
    {
     "data": {
      "text/html": [
       "0.022452729812545924 dimensionless"
      ],
      "text/latex": [
       "$0.022452729812545924\\ dimensionless$"
      ],
      "text/plain": [
       "0.022452729812545924 <Unit('dimensionless')>"
      ]
     },
     "execution_count": 151,
     "metadata": {},
     "output_type": "execute_result"
    }
   ],
   "source": [
    "fd = friction_factor(Re=Re, eD=0.0018*u.inch/D_pipe) #Calculating friction drop\n",
    "fd"
   ]
  },
  {
   "cell_type": "code",
   "execution_count": 152,
   "metadata": {},
   "outputs": [
    {
     "name": "stdout",
     "output_type": "stream",
     "text": [
      "Darcy friction factor = 0.022452729812545924 dimensionless\n"
     ]
    }
   ],
   "source": [
    "K_friction = K_from_f(fd=fd, L=L, D=D_pipe) #Calculating friction\n",
    "print('Darcy friction factor = %s' %fd)"
   ]
  },
  {
   "cell_type": "code",
   "execution_count": 153,
   "metadata": {},
   "outputs": [
    {
     "name": "stdout",
     "output_type": "stream",
     "text": [
      "Pressure drop = 363.5041410814 pascal\n",
      "In imperial, pressure drop = 0.05272181827800907 pound_force_per_square_inch\n"
     ]
    }
   ],
   "source": [
    "dP = dP_from_K(K=K_friction, rho=rho, V=v) #Calculating pressure drop\n",
    "print('Pressure drop = %s' %dP.to(u.Pa))\n",
    "print('In imperial, pressure drop = %s' %dP.to(u.psi))"
   ]
  },
  {
   "cell_type": "markdown",
   "metadata": {},
   "source": [
    "## Problem 3\n",
    "\n",
    "Lube oil at 40 C is flowing at the rate of 600 barrels/hr through 60 meters of 8 inch schedule 40 pipe. Find the total line pressure drop in bar.\n",
    "\n",
    "Specific gravity : 0.90 at 40 C\n",
    "\n",
    "Viscosity : 450 cP at 40 C"
   ]
  },
  {
   "cell_type": "code",
   "execution_count": 140,
   "metadata": {},
   "outputs": [
    {
     "data": {
      "text/plain": [
       "0.9"
      ]
     },
     "execution_count": 140,
     "metadata": {},
     "output_type": "execute_result"
    }
   ],
   "source": [
    "SG = 0.9 #Defining specific gravity\n",
    "SG"
   ]
  },
  {
   "cell_type": "code",
   "execution_count": 141,
   "metadata": {},
   "outputs": [
    {
     "data": {
      "text/html": [
       "899.19 kilogram/meter<sup>3</sup>"
      ],
      "text/latex": [
       "$899.19\\ \\frac{\\mathrm{kilogram}}{\\mathrm{meter}^{3}}$"
      ],
      "text/plain": [
       "899.19 <Unit('kilogram / meter ** 3')>"
      ]
     },
     "execution_count": 141,
     "metadata": {},
     "output_type": "execute_result"
    }
   ],
   "source": [
    "rho = SG*999.1*u.kg/u.m**3 #Defining rho\n",
    "rho"
   ]
  },
  {
   "cell_type": "code",
   "execution_count": 142,
   "metadata": {},
   "outputs": [
    {
     "data": {
      "text/html": [
       "450 centipoise"
      ],
      "text/latex": [
       "$450\\ \\mathrm{centipoise}$"
      ],
      "text/plain": [
       "450 <Unit('centipoise')>"
      ]
     },
     "execution_count": 142,
     "metadata": {},
     "output_type": "execute_result"
    }
   ],
   "source": [
    "nu = 450*u.centipoise #Defining visocity\n",
    "nu"
   ]
  },
  {
   "cell_type": "code",
   "execution_count": 143,
   "metadata": {},
   "outputs": [
    {
     "data": {
      "text/html": [
       "600.0 barrel/hour"
      ],
      "text/latex": [
       "$600.0\\ \\frac{\\mathrm{barrel}}{\\mathrm{hour}}$"
      ],
      "text/plain": [
       "600.0 <Unit('barrel / hour')>"
      ]
     },
     "execution_count": 143,
     "metadata": {},
     "output_type": "execute_result"
    }
   ],
   "source": [
    "Q = 600*u.barrel/u.hr #Defining flow rate\n",
    "Q"
   ]
  },
  {
   "cell_type": "code",
   "execution_count": 144,
   "metadata": {},
   "outputs": [
    {
     "data": {
      "text/html": [
       "60 meter"
      ],
      "text/latex": [
       "$60\\ \\mathrm{meter}$"
      ],
      "text/plain": [
       "60 <Unit('meter')>"
      ]
     },
     "execution_count": 144,
     "metadata": {},
     "output_type": "execute_result"
    }
   ],
   "source": [
    "L = 60*u.meter #Defining length\n",
    "L"
   ]
  },
  {
   "cell_type": "code",
   "execution_count": 145,
   "metadata": {},
   "outputs": [
    {
     "data": {
      "text/plain": [
       "(10 <Unit('dimensionless')>,\n",
       " 0.25446 <Unit('meter')>,\n",
       " 0.273 <Unit('meter')>,\n",
       " 0.009269999999999999 <Unit('meter')>)"
      ]
     },
     "execution_count": 145,
     "metadata": {},
     "output_type": "execute_result"
    }
   ],
   "source": [
    "NPS, D_pipe, Do_pipe, t = nearest_pipe(Di=8*u.inch) #Calling piping data base\n",
    "NPS, D_pipe, Do_pipe, t"
   ]
  },
  {
   "cell_type": "code",
   "execution_count": 146,
   "metadata": {},
   "outputs": [
    {
     "data": {
      "text/html": [
       "11798.378467727003 barrel/(hour meter<sup>2</sup>)"
      ],
      "text/latex": [
       "$11798.378467727003\\ \\frac{\\mathrm{barrel}}{\\left(\\mathrm{hour} \\cdot \\mathrm{meter}^{2}\\right)}$"
      ],
      "text/plain": [
       "11798.378467727003 <Unit('barrel / hour / meter ** 2')>"
      ]
     },
     "execution_count": 146,
     "metadata": {},
     "output_type": "execute_result"
    }
   ],
   "source": [
    "v = Q/(pi/4*D_pipe**2) #Calculating velocity \n",
    "v"
   ]
  },
  {
   "cell_type": "code",
   "execution_count": 147,
   "metadata": {},
   "outputs": [
    {
     "data": {
      "text/html": [
       "40670.93582448257 dimensionless"
      ],
      "text/latex": [
       "$40670.93582448257\\ dimensionless$"
      ],
      "text/plain": [
       "40670.93582448257 <Unit('dimensionless')>"
      ]
     },
     "execution_count": 147,
     "metadata": {},
     "output_type": "execute_result"
    }
   ],
   "source": [
    "Re = Reynolds(rho=rho, mu=mu, D=D_pipe, V=v) #Calculating reynolds number\n",
    "Re"
   ]
  },
  {
   "cell_type": "code",
   "execution_count": 148,
   "metadata": {},
   "outputs": [
    {
     "name": "stdout",
     "output_type": "stream",
     "text": [
      "Darcy friction factor = 0.022452729812545924 dimensionless\n"
     ]
    }
   ],
   "source": [
    "fd = friction_factor(Re=Re, eD=0.0018*u.inch/D_pipe) #Calculating friction drop\n",
    "print('Darcy friction factor = %s' %fd)"
   ]
  },
  {
   "cell_type": "code",
   "execution_count": 149,
   "metadata": {},
   "outputs": [
    {
     "name": "stdout",
     "output_type": "stream",
     "text": [
      "Pressure drop = 363.5041410814 pascal\n",
      "In metric, pressure drop = 0.0036350414108140003 bar\n"
     ]
    }
   ],
   "source": [
    "K_friction = K_from_f(fd=fd, L=L, D=D_pipe) #Calculating k friction\n",
    "dP = dP_from_K(K=K_friction, rho=rho, V=v) #Calculating pressure drop\n",
    "print('Pressure drop = %s' %dP.to(u.Pa))\n",
    "print('In metric, pressure drop = %s' %dP.to(u.bar))"
   ]
  },
  {
   "cell_type": "code",
   "execution_count": null,
   "metadata": {},
   "outputs": [],
   "source": []
  }
 ],
 "metadata": {
  "kernelspec": {
   "display_name": "Python 3.9.2 64-bit",
   "language": "python",
   "name": "python3"
  },
  "language_info": {
   "codemirror_mode": {
    "name": "ipython",
    "version": 3
   },
   "file_extension": ".py",
   "mimetype": "text/x-python",
   "name": "python",
   "nbconvert_exporter": "python",
   "pygments_lexer": "ipython3",
   "version": "3.9.2"
  },
  "vscode": {
   "interpreter": {
    "hash": "04d3f64a3b4064fd924ec1789481681d8cf614ac32e465ddc035ca363d369555"
   }
  }
 },
 "nbformat": 4,
 "nbformat_minor": 4
}
