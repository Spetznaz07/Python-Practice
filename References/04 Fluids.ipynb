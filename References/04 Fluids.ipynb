{
 "cells": [
  {
   "cell_type": "markdown",
   "metadata": {},
   "source": [
    "# 04 Introduction to Fluids Module\n",
    "---\n",
    "\n",
    "## Introduction 🌊\n",
    "\n",
    "### What is Fluids?\n",
    "[![Fluids](https://img.shields.io/badge/Fluids-8CAAE6?style=flat&logo=Fluids&logoColor=black)](https://pypi.org/project/fluids/) is a free and open-source Python library used for scientific computing and technical computing.\n",
    "\n",
    "Fluids is open-source software for engineers and technicians working in the fields of chemical, mechanical, or civil engineering. It includes modules for piping, fittings, pumps, tanks, compressible flow, open-channel flow, atmospheric properties, solar properties, particle size distributions, two phase flow, friction factors, control valves, orifice plates and other flow meters, ejectors, relief valves, and more.\n",
    "\n",
    "The fluids library is designed to be a low-overhead, lightweight repository of engineering knowledge and utilities that relate to fluid dynamics.\n",
    "\n",
    "Fluids was originally tightly integrated with SciPy and NumPy; today they are optional components used for only a small amount of functionality which do not have pure-Python numerical methods implemented. Fluids targets Python 2.7 and up as well as PyPy2 and PyPy3. Additionally, fluids has been tested by the author to load in IronPython, Jython, and micropython.\n",
    "\n",
    "While the routines in Fluids are normally quite fast and as efficiently coded as possible, depending on the application there can still be a need for further speed. PyPy provides a substantial speed boost of 6-12 times for most methods. Fluids also supports Numba, a powerful accelerator that works well with NumPy. The Numba interface to fluids also makes it easy to multithread execution as well, avoiding Python GIL issue.\n",
    "\n",
    "Fluids runs on all operating systems which support Python, is quick to install, and is free of charge. Fluids is designed to be easy to use while still providing powerful functionality. If you need to perform some fluid dynamics calculations, give fluids a try."
   ]
  },
  {
   "cell_type": "code",
   "execution_count": 242,
   "metadata": {},
   "outputs": [],
   "source": [
    "import fluids #Importing fluids \n",
    "import math #Importing mathematics \n",
    "import thermo #Importing thermodynamics for properties"
   ]
  },
  {
   "cell_type": "markdown",
   "metadata": {},
   "source": [
    "## Problem 1\n",
    "\n",
    "Water at 30 degrees Celsius flows through a 20 m length of 50 mm plastic (smooth wall) pipe, at a flow rate of 200 L/min.\n",
    "\n",
    "Calculate the Reynolds number and friction factor."
   ]
  },
  {
   "cell_type": "code",
   "execution_count": 243,
   "metadata": {},
   "outputs": [],
   "source": [
    "from fluids.units import  * # * means all fxn are now imported\n",
    "from thermo.units import Stream # stream\n",
    "from math import * # * means all fxn are now imported"
   ]
  },
  {
   "cell_type": "code",
   "execution_count": 244,
   "metadata": {},
   "outputs": [
    {
     "data": {
      "text/html": [
       "0.2 meter<sup>3</sup>/minute"
      ],
      "text/latex": [
       "$0.2\\ \\frac{\\mathrm{meter}^{3}}{\\mathrm{minute}}$"
      ],
      "text/plain": [
       "0.2 <Unit('meter ** 3 / minute')>"
      ]
     },
     "execution_count": 244,
     "metadata": {},
     "output_type": "execute_result"
    }
   ],
   "source": [
    "Q = 0.2*u.m**3/u.min #Defining flow rate\n",
    "Q"
   ]
  },
  {
   "cell_type": "code",
   "execution_count": 245,
   "metadata": {},
   "outputs": [
    {
     "data": {
      "text/html": [
       "30 degree_Celsius"
      ],
      "text/latex": [
       "$30\\ \\mathrm{degree\\_Celsius}$"
      ],
      "text/plain": [
       "30 <Unit('degree_Celsius')>"
      ]
     },
     "execution_count": 245,
     "metadata": {},
     "output_type": "execute_result"
    }
   ],
   "source": [
    "T = 30*u.degC #Defining temperature\n",
    "T"
   ]
  },
  {
   "cell_type": "code",
   "execution_count": 246,
   "metadata": {},
   "outputs": [
    {
     "data": {
      "text/html": [
       "2 bar"
      ],
      "text/latex": [
       "$2\\ \\mathrm{bar}$"
      ],
      "text/plain": [
       "2 <Unit('bar')>"
      ]
     },
     "execution_count": 246,
     "metadata": {},
     "output_type": "execute_result"
    }
   ],
   "source": [
    "P = 2*u.bar # assumed pressure in the line\n",
    "P"
   ]
  },
  {
   "cell_type": "code",
   "execution_count": 247,
   "metadata": {},
   "outputs": [
    {
     "data": {
      "text/plain": [
       "<Stream, components=['water'], mole fractions=[1.0], mass flow=3.3166445200262986 kg/s, mole flow=184.10174696292805 mol/s, T=303.15 K, P=200000 Pa>"
      ]
     },
     "execution_count": 247,
     "metadata": {},
     "output_type": "execute_result"
    }
   ],
   "source": [
    "water = Stream('water', T=T, P=P, Q=Q) #Defining a variable named water and calling properties from thermo package\n",
    "water"
   ]
  },
  {
   "cell_type": "code",
   "execution_count": 248,
   "metadata": {},
   "outputs": [
    {
     "data": {
      "text/plain": [
       "(2 <Unit('dimensionless')>,\n",
       " 0.05248 <Unit('meter')>,\n",
       " 0.0603 <Unit('meter')>,\n",
       " 0.00391 <Unit('meter')>)"
      ]
     },
     "execution_count": 248,
     "metadata": {},
     "output_type": "execute_result"
    }
   ],
   "source": [
    "NPS, Di, Do, t = nearest_pipe(Di=0.05*u.m) #Calling data from pipe database\n",
    "NPS, Di, Do, t"
   ]
  },
  {
   "cell_type": "code",
   "execution_count": 249,
   "metadata": {},
   "outputs": [
    {
     "data": {
      "text/html": [
       "92.45969608160561 meter/minute"
      ],
      "text/latex": [
       "$92.45969608160561\\ \\frac{\\mathrm{meter}}{\\mathrm{minute}}$"
      ],
      "text/plain": [
       "92.45969608160561 <Unit('meter / minute')>"
      ]
     },
     "execution_count": 249,
     "metadata": {},
     "output_type": "execute_result"
    }
   ],
   "source": [
    "v = Q/(pi/4*Di**2) #Defining velocity Volumetirc flow rate / Cross sectional area\n",
    "v #Velocity is hypothetical"
   ]
  },
  {
   "cell_type": "code",
   "execution_count": 250,
   "metadata": {},
   "outputs": [
    {
     "name": "stdout",
     "output_type": "stream",
     "text": [
      "Reynolds number = 98175.54427341053 dimensionless\n"
     ]
    }
   ],
   "source": [
    "Re = Reynolds(D=Di, rho=water.rho, mu=water.mu, V=v)\n",
    "print('Reynolds number = %s' %Re)"
   ]
  },
  {
   "cell_type": "code",
   "execution_count": 251,
   "metadata": {},
   "outputs": [
    {
     "name": "stdout",
     "output_type": "stream",
     "text": [
      "Darcy friction factor = 0.018212892385739768 dimensionless\n"
     ]
    }
   ],
   "source": [
    "fd = friction_factor(Re=Re, eD=_roughness['Glass']/Di)\n",
    "print('Darcy friction factor = %s' %fd)"
   ]
  },
  {
   "cell_type": "markdown",
   "metadata": {},
   "source": [
    "## Problem 2 \n",
    "\n",
    "Fuel oil at a specific gravity of 0.815 (kinematic viscosity of 2.7 centistokes) flows at 2 inch, schedule 40 steel pipe 100 foot long at a rate of 2 US gallons/second.\n",
    "\n",
    "Calculate the pressure drop in bars and psi."
   ]
  },
  {
   "cell_type": "code",
   "execution_count": 252,
   "metadata": {},
   "outputs": [],
   "source": [
    "#Defining inputs\n",
    "SG = 0.815 # Specific gravity"
   ]
  },
  {
   "cell_type": "code",
   "execution_count": 253,
   "metadata": {},
   "outputs": [
    {
     "data": {
      "text/html": [
       "814.2665 kilogram/meter<sup>3</sup>"
      ],
      "text/latex": [
       "$814.2665\\ \\frac{\\mathrm{kilogram}}{\\mathrm{meter}^{3}}$"
      ],
      "text/plain": [
       "814.2665 <Unit('kilogram / meter ** 3')>"
      ]
     },
     "execution_count": 253,
     "metadata": {},
     "output_type": "execute_result"
    }
   ],
   "source": [
    "rho = SG*999.1*u.kg/u.m**3 # Converting into density\n",
    "rho"
   ]
  },
  {
   "cell_type": "code",
   "execution_count": 254,
   "metadata": {},
   "outputs": [
    {
     "data": {
      "text/html": [
       "2.7 centistokes"
      ],
      "text/latex": [
       "$2.7\\ \\mathrm{centistokes}$"
      ],
      "text/plain": [
       "2.7 <Unit('centistokes')>"
      ]
     },
     "execution_count": 254,
     "metadata": {},
     "output_type": "execute_result"
    }
   ],
   "source": [
    "nu = 2.7*u.centistokes # Kinematic viscosity\n",
    "nu"
   ]
  },
  {
   "cell_type": "code",
   "execution_count": 255,
   "metadata": {},
   "outputs": [
    {
     "data": {
      "text/html": [
       "0.0021985195500000007 pascal second"
      ],
      "text/latex": [
       "$0.0021985195500000007\\ \\mathrm{pascal} \\cdot \\mathrm{second}$"
      ],
      "text/plain": [
       "0.0021985195500000007 <Unit('pascal * second')>"
      ]
     },
     "execution_count": 255,
     "metadata": {},
     "output_type": "execute_result"
    }
   ],
   "source": [
    "mu = nu_mu_converter(rho,  nu=nu) # Converting into abs viscosity\n",
    "mu"
   ]
  },
  {
   "cell_type": "code",
   "execution_count": 256,
   "metadata": {},
   "outputs": [
    {
     "data": {
      "text/html": [
       "2.0 gallon/second"
      ],
      "text/latex": [
       "$2.0\\ \\frac{\\mathrm{gallon}}{\\mathrm{second}}$"
      ],
      "text/plain": [
       "2.0 <Unit('gallon / second')>"
      ]
     },
     "execution_count": 256,
     "metadata": {},
     "output_type": "execute_result"
    }
   ],
   "source": [
    "Q = 2*u.gal/u.s # Flow rate\n",
    "Q"
   ]
  },
  {
   "cell_type": "code",
   "execution_count": 257,
   "metadata": {},
   "outputs": [
    {
     "data": {
      "text/html": [
       "100 foot"
      ],
      "text/latex": [
       "$100\\ \\mathrm{foot}$"
      ],
      "text/plain": [
       "100 <Unit('foot')>"
      ]
     },
     "execution_count": 257,
     "metadata": {},
     "output_type": "execute_result"
    }
   ],
   "source": [
    "L = 100*u.foot # Length\n",
    "L"
   ]
  },
  {
   "cell_type": "code",
   "execution_count": 258,
   "metadata": {},
   "outputs": [
    {
     "data": {
      "text/plain": [
       "(2 <Unit('dimensionless')>,\n",
       " 0.05248 <Unit('meter')>,\n",
       " 0.0603 <Unit('meter')>,\n",
       " 0.00391 <Unit('meter')>)"
      ]
     },
     "execution_count": 258,
     "metadata": {},
     "output_type": "execute_result"
    }
   ],
   "source": [
    "NPS, D_pipe, Do_pipe, t = nearest_pipe(Di=2*u.inch) #Calling from piping database\n",
    "NPS, D_pipe, Do_pipe, t"
   ]
  },
  {
   "cell_type": "code",
   "execution_count": 259,
   "metadata": {},
   "outputs": [
    {
     "data": {
      "text/html": [
       "924.5969608160561 gallon/(meter<sup>2</sup> second)"
      ],
      "text/latex": [
       "$924.5969608160561\\ \\frac{\\mathrm{gallon}}{\\left(\\mathrm{meter}^{2} \\cdot \\mathrm{second}\\right)}$"
      ],
      "text/plain": [
       "924.5969608160561 <Unit('gallon / meter ** 2 / second')>"
      ]
     },
     "execution_count": 259,
     "metadata": {},
     "output_type": "execute_result"
    }
   ],
   "source": [
    "v = Q/(pi/4*D_pipe**2) #Defining velocity Q/A\n",
    "v"
   ]
  },
  {
   "cell_type": "code",
   "execution_count": 260,
   "metadata": {},
   "outputs": [
    {
     "data": {
      "text/html": [
       "68029.24537736106 dimensionless"
      ],
      "text/latex": [
       "$68029.24537736106\\ dimensionless$"
      ],
      "text/plain": [
       "68029.24537736106 <Unit('dimensionless')>"
      ]
     },
     "execution_count": 260,
     "metadata": {},
     "output_type": "execute_result"
    }
   ],
   "source": [
    "Re = Reynolds(rho=rho, mu=mu, D=D_pipe, V=v) #Calculating reynolds numbers\n",
    "Re"
   ]
  },
  {
   "cell_type": "code",
   "execution_count": 261,
   "metadata": {},
   "outputs": [
    {
     "data": {
      "text/html": [
       "0.02270215687134065 dimensionless"
      ],
      "text/latex": [
       "$0.02270215687134065\\ dimensionless$"
      ],
      "text/plain": [
       "0.02270215687134065 <Unit('dimensionless')>"
      ]
     },
     "execution_count": 261,
     "metadata": {},
     "output_type": "execute_result"
    }
   ],
   "source": [
    "fd = friction_factor(Re=Re, eD=0.0018*u.inch/D_pipe) #Calculating friction drop\n",
    "fd"
   ]
  },
  {
   "cell_type": "code",
   "execution_count": 262,
   "metadata": {},
   "outputs": [
    {
     "name": "stdout",
     "output_type": "stream",
     "text": [
      "Darcy friction factor = 0.02270215687134065 dimensionless\n"
     ]
    }
   ],
   "source": [
    "K_friction = K_from_f(fd=fd, L=L, D=D_pipe) #Calculating friction\n",
    "print('Darcy friction factor = %s' %fd)"
   ]
  },
  {
   "cell_type": "code",
   "execution_count": 263,
   "metadata": {},
   "outputs": [
    {
     "name": "stdout",
     "output_type": "stream",
     "text": [
      "Pressure drop = 65759.12280469094 pascal\n",
      "In imperial, pressure drop = 9.537554406715385 pound_force_per_square_inch\n"
     ]
    }
   ],
   "source": [
    "dP = dP_from_K(K=K_friction, rho=rho, V=v) #Calculating pressure drop\n",
    "print('Pressure drop = %s' %dP.to(u.Pa))\n",
    "print('In imperial, pressure drop = %s' %dP.to(u.psi))"
   ]
  },
  {
   "cell_type": "markdown",
   "metadata": {},
   "source": [
    "## Problem 3\n",
    "\n",
    "Lube oil at 40 C is flowing at the rate of 600 barrels/hr through 60 meters of 8 inch schedule 40 pipe. Find the total line pressure drop in bar.\n",
    "\n",
    "Specific gravity : 0.90 at 40 C\n",
    "\n",
    "Viscosity : 450 cP at 40 C"
   ]
  },
  {
   "cell_type": "code",
   "execution_count": 264,
   "metadata": {},
   "outputs": [
    {
     "data": {
      "text/plain": [
       "0.9"
      ]
     },
     "execution_count": 264,
     "metadata": {},
     "output_type": "execute_result"
    }
   ],
   "source": [
    "SG = 0.9 #Defining specific gravity\n",
    "SG"
   ]
  },
  {
   "cell_type": "code",
   "execution_count": 265,
   "metadata": {},
   "outputs": [
    {
     "data": {
      "text/html": [
       "899.19 kilogram/meter<sup>3</sup>"
      ],
      "text/latex": [
       "$899.19\\ \\frac{\\mathrm{kilogram}}{\\mathrm{meter}^{3}}$"
      ],
      "text/plain": [
       "899.19 <Unit('kilogram / meter ** 3')>"
      ]
     },
     "execution_count": 265,
     "metadata": {},
     "output_type": "execute_result"
    }
   ],
   "source": [
    "rho = SG*999.1*u.kg/u.m**3 #Defining rho\n",
    "rho"
   ]
  },
  {
   "cell_type": "code",
   "execution_count": 266,
   "metadata": {},
   "outputs": [
    {
     "data": {
      "text/html": [
       "450 centipoise"
      ],
      "text/latex": [
       "$450\\ \\mathrm{centipoise}$"
      ],
      "text/plain": [
       "450 <Unit('centipoise')>"
      ]
     },
     "execution_count": 266,
     "metadata": {},
     "output_type": "execute_result"
    }
   ],
   "source": [
    "nu = 450*u.centipoise #Defining visocity\n",
    "nu"
   ]
  },
  {
   "cell_type": "code",
   "execution_count": 267,
   "metadata": {},
   "outputs": [
    {
     "data": {
      "text/html": [
       "600.0 barrel/hour"
      ],
      "text/latex": [
       "$600.0\\ \\frac{\\mathrm{barrel}}{\\mathrm{hour}}$"
      ],
      "text/plain": [
       "600.0 <Unit('barrel / hour')>"
      ]
     },
     "execution_count": 267,
     "metadata": {},
     "output_type": "execute_result"
    }
   ],
   "source": [
    "Q = 600*u.barrel/u.hr #Defining flow rate\n",
    "Q"
   ]
  },
  {
   "cell_type": "code",
   "execution_count": 268,
   "metadata": {},
   "outputs": [
    {
     "data": {
      "text/html": [
       "60 meter"
      ],
      "text/latex": [
       "$60\\ \\mathrm{meter}$"
      ],
      "text/plain": [
       "60 <Unit('meter')>"
      ]
     },
     "execution_count": 268,
     "metadata": {},
     "output_type": "execute_result"
    }
   ],
   "source": [
    "L = 60*u.meter #Defining length\n",
    "L"
   ]
  },
  {
   "cell_type": "code",
   "execution_count": 269,
   "metadata": {},
   "outputs": [
    {
     "data": {
      "text/plain": [
       "(10 <Unit('dimensionless')>,\n",
       " 0.25446 <Unit('meter')>,\n",
       " 0.273 <Unit('meter')>,\n",
       " 0.009269999999999999 <Unit('meter')>)"
      ]
     },
     "execution_count": 269,
     "metadata": {},
     "output_type": "execute_result"
    }
   ],
   "source": [
    "NPS, D_pipe, Do_pipe, t = nearest_pipe(Di=8*u.inch) #Calling piping data base\n",
    "NPS, D_pipe, Do_pipe, t"
   ]
  },
  {
   "cell_type": "code",
   "execution_count": 270,
   "metadata": {},
   "outputs": [
    {
     "data": {
      "text/html": [
       "11798.378467727003 barrel/(hour meter<sup>2</sup>)"
      ],
      "text/latex": [
       "$11798.378467727003\\ \\frac{\\mathrm{barrel}}{\\left(\\mathrm{hour} \\cdot \\mathrm{meter}^{2}\\right)}$"
      ],
      "text/plain": [
       "11798.378467727003 <Unit('barrel / hour / meter ** 2')>"
      ]
     },
     "execution_count": 270,
     "metadata": {},
     "output_type": "execute_result"
    }
   ],
   "source": [
    "v = Q/(pi/4*D_pipe**2) #Calculating velocity \n",
    "v"
   ]
  },
  {
   "cell_type": "code",
   "execution_count": 271,
   "metadata": {},
   "outputs": [
    {
     "data": {
      "text/html": [
       "40670.93582448257 dimensionless"
      ],
      "text/latex": [
       "$40670.93582448257\\ dimensionless$"
      ],
      "text/plain": [
       "40670.93582448257 <Unit('dimensionless')>"
      ]
     },
     "execution_count": 271,
     "metadata": {},
     "output_type": "execute_result"
    }
   ],
   "source": [
    "Re = Reynolds(rho=rho, mu=mu, D=D_pipe, V=v) #Calculating reynolds number\n",
    "Re"
   ]
  },
  {
   "cell_type": "code",
   "execution_count": 272,
   "metadata": {},
   "outputs": [
    {
     "name": "stdout",
     "output_type": "stream",
     "text": [
      "Darcy friction factor = 0.022452729812545924 dimensionless\n"
     ]
    }
   ],
   "source": [
    "fd = friction_factor(Re=Re, eD=0.0018*u.inch/D_pipe) #Calculating friction drop\n",
    "print('Darcy friction factor = %s' %fd)"
   ]
  },
  {
   "cell_type": "code",
   "execution_count": 273,
   "metadata": {},
   "outputs": [
    {
     "name": "stdout",
     "output_type": "stream",
     "text": [
      "Pressure drop = 363.5041410814 pascal\n",
      "In metric, pressure drop = 0.0036350414108140003 bar\n"
     ]
    }
   ],
   "source": [
    "K_friction = K_from_f(fd=fd, L=L, D=D_pipe) #Calculating k friction\n",
    "dP = dP_from_K(K=K_friction, rho=rho, V=v) #Calculating pressure drop\n",
    "print('Pressure drop = %s' %dP.to(u.Pa))\n",
    "print('In metric, pressure drop = %s' %dP.to(u.bar))"
   ]
  },
  {
   "cell_type": "markdown",
   "metadata": {},
   "source": [
    "## Problem 3\n",
    "\n",
    "Carbon dioxide to be conveyed from the top of stripper of ammonia plant to urea plant. Calculate the optimal pipe size required based on the following data.\n",
    "\n",
    "Flow rate of CO2 = 1000 t/day\n",
    "\n",
    "Total length of pipe = 800 m\n",
    "\n",
    "ALlowable pressure drop = 24 kPa\n",
    "\n",
    "No of 90° elbows = 8\n",
    "\n",
    "No of butterfly valve = 1\n",
    "\n",
    "Temperature of gas = 60°C\n",
    "\n",
    "Viscosity of CO2 gas = 0.016 cP\n",
    "\n",
    "Pipe schedule = 20"
   ]
  },
  {
   "cell_type": "code",
   "execution_count": 274,
   "metadata": {},
   "outputs": [
    {
     "data": {
      "text/html": [
       "1000.0 US_ton/hour"
      ],
      "text/latex": [
       "$1000.0\\ \\frac{\\mathrm{US\\_ton}}{\\mathrm{hour}}$"
      ],
      "text/plain": [
       "1000.0 <Unit('US_ton / hour')>"
      ]
     },
     "execution_count": 274,
     "metadata": {},
     "output_type": "execute_result"
    }
   ],
   "source": [
    "m = 1000*u.US_ton/u.hr\n",
    "m"
   ]
  },
  {
   "cell_type": "code",
   "execution_count": 275,
   "metadata": {},
   "outputs": [
    {
     "data": {
      "text/html": [
       "60 degree_Celsius"
      ],
      "text/latex": [
       "$60\\ \\mathrm{degree\\_Celsius}$"
      ],
      "text/plain": [
       "60 <Unit('degree_Celsius')>"
      ]
     },
     "execution_count": 275,
     "metadata": {},
     "output_type": "execute_result"
    }
   ],
   "source": [
    "T = 60*u.degC\n",
    "T"
   ]
  },
  {
   "cell_type": "code",
   "execution_count": 276,
   "metadata": {},
   "outputs": [
    {
     "data": {
      "text/html": [
       "1.2 bar"
      ],
      "text/latex": [
       "$1.2\\ \\mathrm{bar}$"
      ],
      "text/plain": [
       "1.2 <Unit('bar')>"
      ]
     },
     "execution_count": 276,
     "metadata": {},
     "output_type": "execute_result"
    }
   ],
   "source": [
    "P = 1.2*u.bar\n",
    "P"
   ]
  },
  {
   "cell_type": "code",
   "execution_count": 277,
   "metadata": {},
   "outputs": [
    {
     "data": {
      "text/plain": [
       "<Stream, components=['carbon dioxide'], mole fractions=[1.0], mass flow=251.99576111111116 kg/s, mole flow=5725.940106365924 mol/s, T=333.15 K, P=120000 Pa>"
      ]
     },
     "execution_count": 277,
     "metadata": {},
     "output_type": "execute_result"
    }
   ],
   "source": [
    "CO2 = Stream('Carbon-dioxide', T=T,P=P,m=m)\n",
    "CO2"
   ]
  },
  {
   "cell_type": "code",
   "execution_count": 278,
   "metadata": {},
   "outputs": [
    {
     "data": {
      "text/html": [
       "1.9065740510591098 kilogram/meter<sup>3</sup>"
      ],
      "text/latex": [
       "$1.9065740510591098\\ \\frac{\\mathrm{kilogram}}{\\mathrm{meter}^{3}}$"
      ],
      "text/plain": [
       "1.9065740510591098 <Unit('kilogram / meter ** 3')>"
      ]
     },
     "execution_count": 278,
     "metadata": {},
     "output_type": "execute_result"
    }
   ],
   "source": [
    "rho = CO2.rho\n",
    "rho"
   ]
  },
  {
   "cell_type": "code",
   "execution_count": 279,
   "metadata": {},
   "outputs": [
    {
     "data": {
      "text/html": [
       "800 meter"
      ],
      "text/latex": [
       "$800\\ \\mathrm{meter}$"
      ],
      "text/plain": [
       "800 <Unit('meter')>"
      ]
     },
     "execution_count": 279,
     "metadata": {},
     "output_type": "execute_result"
    }
   ],
   "source": [
    "L = 800*u.m\n",
    "L"
   ]
  },
  {
   "cell_type": "code",
   "execution_count": 280,
   "metadata": {},
   "outputs": [
    {
     "data": {
      "text/html": [
       "0.59094 meter"
      ],
      "text/latex": [
       "$0.59094\\ \\mathrm{meter}$"
      ],
      "text/plain": [
       "0.59094 <Unit('meter')>"
      ]
     },
     "execution_count": 280,
     "metadata": {},
     "output_type": "execute_result"
    }
   ],
   "source": [
    "NPS, D_pipe, Do_pipe, t = nearest_pipe(Do=600*u.mm, schedule='20')\n",
    "D_pipe"
   ]
  },
  {
   "cell_type": "code",
   "execution_count": 281,
   "metadata": {},
   "outputs": [
    {
     "data": {
      "text/html": [
       "524.50100191204 US_ton meter<sup>3</sup>/(hour kilogram)"
      ],
      "text/latex": [
       "$524.50100191204\\ \\frac{\\mathrm{US\\_ton} \\cdot \\mathrm{meter}^{3}}{\\left(\\mathrm{hour} \\cdot \\mathrm{kilogram}\\right)}$"
      ],
      "text/plain": [
       "524.50100191204 <Unit('US_ton * meter ** 3 / hour / kilogram')>"
      ]
     },
     "execution_count": 281,
     "metadata": {},
     "output_type": "execute_result"
    }
   ],
   "source": [
    "Q = m/rho\n",
    "Q"
   ]
  },
  {
   "cell_type": "code",
   "execution_count": 282,
   "metadata": {},
   "outputs": [
    {
     "data": {
      "text/html": [
       "1912.3600613221886 US_ton meter/(hour kilogram)"
      ],
      "text/latex": [
       "$1912.3600613221886\\ \\frac{\\mathrm{US\\_ton} \\cdot \\mathrm{meter}}{\\left(\\mathrm{hour} \\cdot \\mathrm{kilogram}\\right)}$"
      ],
      "text/plain": [
       "1912.3600613221886 <Unit('US_ton * meter / hour / kilogram')>"
      ]
     },
     "execution_count": 282,
     "metadata": {},
     "output_type": "execute_result"
    }
   ],
   "source": [
    "v = Q/(pi/4*D_pipe**2)\n",
    "v"
   ]
  },
  {
   "cell_type": "code",
   "execution_count": 283,
   "metadata": {},
   "outputs": [
    {
     "data": {
      "text/html": [
       "246961.71613236284 dimensionless"
      ],
      "text/latex": [
       "$246961.71613236284\\ dimensionless$"
      ],
      "text/plain": [
       "246961.71613236284 <Unit('dimensionless')>"
      ]
     },
     "execution_count": 283,
     "metadata": {},
     "output_type": "execute_result"
    }
   ],
   "source": [
    "Re = Reynolds(rho=rho, mu=mu, D=D_pipe, V=v)\n",
    "Re"
   ]
  },
  {
   "cell_type": "code",
   "execution_count": 284,
   "metadata": {},
   "outputs": [
    {
     "data": {
      "text/html": [
       "0.015693751698546685 dimensionless"
      ],
      "text/latex": [
       "$0.015693751698546685\\ dimensionless$"
      ],
      "text/plain": [
       "0.015693751698546685 <Unit('dimensionless')>"
      ]
     },
     "execution_count": 284,
     "metadata": {},
     "output_type": "execute_result"
    }
   ],
   "source": [
    "fd = friction_factor(Re=Re, eD=0.0018*u.inch/D_pipe)\n",
    "fd"
   ]
  },
  {
   "cell_type": "code",
   "execution_count": 285,
   "metadata": {},
   "outputs": [
    {
     "name": "stdout",
     "output_type": "stream",
     "text": [
      "Pressure drop = 564.3359369307665 kilopascal\n"
     ]
    }
   ],
   "source": [
    "from fluids import K_butterfly_valve_Crane\n",
    "K_elbow = bend_rounded(Di=D_pipe, angle=90*u.degrees, fd=fd)\n",
    "K_butterfly_valve_Crane = K_butterfly_valve_Crane(D=.1,style=0)\n",
    "K_tot = K_butterfly_valve_Crane + 8*K_elbow\n",
    "dP = dP_from_K(K=K_tot, rho=rho, V=v)\n",
    "print('Pressure drop = %s' %dP.to(u.kPa))"
   ]
  },
  {
   "cell_type": "markdown",
   "metadata": {},
   "source": [
    "## Problem 5\n",
    "\n",
    "Calculate optimal line size and pressure drop for instrument air line to supply 849 kg/hr to gas engine at a pressure of 1.2 barg and temperature of 35 °C\n",
    "\n",
    "Consider line length as 200 m\n",
    "\n",
    "Consider 10 Nos 90 °C, 2 No Ball Valves, 5 Nos 45° bends, 1 NRV and 1 reducer as fittings\n",
    "\n",
    "Consider 40 pipe schedule\n",
    "\n",
    "Consider viscosity of air as 0.01065 cP "
   ]
  },
  {
   "cell_type": "code",
   "execution_count": 304,
   "metadata": {},
   "outputs": [
    {
     "name": "stdout",
     "output_type": "stream",
     "text": [
      "Density = 2.5015640395379566 kilogram / meter ** 3\n",
      "Viscosity = 1.886526400435946e-05 pascal * second\n"
     ]
    }
   ],
   "source": [
    "m = 849*u.kg/u.hr\n",
    "T = 35*u.degC\n",
    "P = 1.2*u.bar + 1*u.atmosphere\n",
    "\n",
    "steam = Stream('air', T=T, P=P, m=m)\n",
    "\n",
    "rho = steam.rho\n",
    "mu = steam.mu\n",
    "print('Density = %s' %rho)\n",
    "print('Viscosity = %s' %mu)"
   ]
  },
  {
   "cell_type": "code",
   "execution_count": 305,
   "metadata": {},
   "outputs": [
    {
     "name": "stdout",
     "output_type": "stream",
     "text": [
      "Pressure drop = 0.004756264944355712 kilopascal\n",
      "Optimal pipe size = 0.0603 meter\n"
     ]
    }
   ],
   "source": [
    "L = 200*u.m\n",
    "NPS, D_pipe, Do_pipe, t = nearest_pipe(Do=800*u.mm, schedule='40')\n",
    "Q = m/rho\n",
    "v = Q/(pi/4*D_pipe**2)\n",
    "Re = Reynolds(rho=rho, mu=mu, D=D_pipe, V=v)\n",
    "fd = friction_factor(Re=Re, eD=0.0018*u.inch/D_pipe)\n",
    "K_elbow = bend_rounded(Di=D_pipe, angle=90*u.degrees, fd=fd)\n",
    "K_elbow_45 = bend_rounded(Di=D_pipe, angle=45*u.degrees, fd=fd)\n",
    "K_globe_valve = K_globe_valve_Crane(D1=0.9*D_pipe, D2=D_pipe, fd=fd)\n",
    "\n",
    "K_tot = 5*K_globe_valve + 10*K_elbow + K_friction + 5*K_elbow_45\n",
    "dP = dP_from_K(K=K_tot, rho=rho, V=v)\n",
    "print('Pressure drop = %s' %dP.to(u.kPa))\n",
    "print('Optimal pipe size = %s' %Do.to(u.metre))"
   ]
  },
  {
   "cell_type": "code",
   "execution_count": null,
   "metadata": {},
   "outputs": [],
   "source": []
  }
 ],
 "metadata": {
  "kernelspec": {
   "display_name": "Python 3.9.2 64-bit",
   "language": "python",
   "name": "python3"
  },
  "language_info": {
   "codemirror_mode": {
    "name": "ipython",
    "version": 3
   },
   "file_extension": ".py",
   "mimetype": "text/x-python",
   "name": "python",
   "nbconvert_exporter": "python",
   "pygments_lexer": "ipython3",
   "version": "3.9.2"
  },
  "vscode": {
   "interpreter": {
    "hash": "04d3f64a3b4064fd924ec1789481681d8cf614ac32e465ddc035ca363d369555"
   }
  }
 },
 "nbformat": 4,
 "nbformat_minor": 4
}
