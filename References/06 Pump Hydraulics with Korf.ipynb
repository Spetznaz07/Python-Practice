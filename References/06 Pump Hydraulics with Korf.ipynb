{
 "cells": [
  {
   "cell_type": "markdown",
   "metadata": {},
   "source": [
    "Name : Viraj Desai\n",
    "\n",
    "PS No : 40903346\n",
    "\n",
    "05 Pump Sizing\n"
   ]
  },
  {
   "cell_type": "markdown",
   "metadata": {},
   "source": [
    "Consider a 10 m3 (gross volume) tank for storage of acetone at atmospheric temperature. Acetone is transfered from storage tank to Reactor-1 & Reactor-2 simultaneously by Pump of capacity 8 m3/hr. Maximum work volume of acetone storage tank is 80% of gross volume.\n"
   ]
  },
  {
   "cell_type": "code",
   "execution_count": 26,
   "metadata": {},
   "outputs": [
    {
     "data": {
      "text/html": [
       "<img src=\"Pump Sizing.png\" width=\"1000\" height=\"500\"/>"
      ],
      "text/plain": [
       "<IPython.core.display.Image object>"
      ]
     },
     "execution_count": 26,
     "metadata": {},
     "output_type": "execute_result"
    }
   ],
   "source": [
    "from IPython.display import Image, Latex, Markdown\n",
    "import fluids #Importing fluids \n",
    "from math import *#Importing mathematics \n",
    "import thermo #Importing thermodynamics for properties\n",
    "Image(url=\"Pump Sizing.png\",width=1000,height=500)"
   ]
  },
  {
   "cell_type": "code",
   "execution_count": 27,
   "metadata": {},
   "outputs": [
    {
     "data": {
      "text/html": [
       "<img src=\"Pump Sizing Korf.png\" width=\"800\" height=\"500\"/>"
      ],
      "text/plain": [
       "<IPython.core.display.Image object>"
      ]
     },
     "execution_count": 27,
     "metadata": {},
     "output_type": "execute_result"
    }
   ],
   "source": [
    "Image(url=\"Pump Sizing Korf.png\",width=800,height=500)"
   ]
  },
  {
   "cell_type": "code",
   "execution_count": 28,
   "metadata": {},
   "outputs": [
    {
     "data": {
      "text/html": [
       "25 degree_Celsius"
      ],
      "text/latex": [
       "$25\\ \\mathrm{degree\\_Celsius}$"
      ],
      "text/plain": [
       "25 <Unit('degree_Celsius')>"
      ]
     },
     "execution_count": 28,
     "metadata": {},
     "output_type": "execute_result"
    }
   ],
   "source": [
    "from fluids.units import *\n",
    "T = 25*u.degC #Defining temperature (Assuming)\n",
    "T"
   ]
  },
  {
   "cell_type": "code",
   "execution_count": 29,
   "metadata": {},
   "outputs": [
    {
     "name": "stdout",
     "output_type": "stream",
     "text": [
      "head = 23.646762757487128 foot\n",
      "power = 0.5503135027551845 horsepower\n"
     ]
    }
   ],
   "source": [
    "L = (20+8+3+3)*u.m #Total length\n",
    "dH = 6*u.m #Total Head\n",
    "efficiency = (1-0.7) #Assumption\n",
    "P1 = 1*u.bar + 1*u.atmosphere #converting pressure to abs\n",
    "Q = 7.97*u.m**3/u.hr #Total flow\n",
    "\n",
    "from thermo.units import Stream\n",
    "acetone = Stream('acetone', T=T,P=P1,Q=Q)\n",
    "\n",
    "mu = acetone.mu #Viscosity of acetone\n",
    "rho = acetone.rho #Density of acetone\n",
    "\n",
    "NPS, Di, Do, t = nearest_pipe(Do=2*u.inch, schedule='40') #calling proerties from lib for 2\" dia\n",
    "\n",
    "A = 0.25*pi*Di**2 #Area of pipe\n",
    "v = Q/A #velocity\n",
    "Re = rho*v*Di/mu #Re\n",
    "fd = friction_factor(Re=Re, eD=0.0022*u.inch/Di) #friction factor\n",
    "\n",
    "K_elbow = bend_rounded(Di=Di, angle=90*u.degrees, Re=Re, method='Crane standard') #calling elbows from fluid lib\n",
    "\n",
    "K_tot = 15*K_elbow #total of all elbow fittings\n",
    "K_tot += K_from_f(fd=fd, L=L, D=Di) #total K for selected pipe dia\n",
    "\n",
    "dP = dP_from_K(K=K_tot, rho=rho, V=v) + rho*dH*1*u.gravity #Calculating pressure drop from K\n",
    "dP.to(u.psi), v.to(u.foot/u.s) #converting pressure to FPS units\n",
    "\n",
    "head = head_from_P(dP, rho).to(u.foot) #Cal head for pressure \n",
    "print('head = %s' %head)\n",
    "power = Q*dP/efficiency #calculating power\n",
    "print('power = %s' %(power.to(u.hp)))"
   ]
  },
  {
   "cell_type": "markdown",
   "metadata": {},
   "source": [
    "ASSIGNMENT - 02\n",
    "\n",
    "Consider below diagram for chilled water generation system.\n",
    "Water stored in Hot Well at 12 °C, is fed to water chillers through chiller feed pumps and chilled water generated at 8 °C is collected in Cold Weil.\n",
    "Please make a list of input required to perform the line hydraulics and to size the pumps.\n"
   ]
  },
  {
   "cell_type": "markdown",
   "metadata": {},
   "source": [
    "Piping isometrics\n",
    "\n",
    "Process Design basis\n",
    "\n",
    "Line lists \n",
    "\n",
    "Instrument lists\n",
    "\n"
   ]
  }
 ],
 "metadata": {
  "kernelspec": {
   "display_name": "Python 3.9.2 64-bit",
   "language": "python",
   "name": "python3"
  },
  "language_info": {
   "codemirror_mode": {
    "name": "ipython",
    "version": 3
   },
   "file_extension": ".py",
   "mimetype": "text/x-python",
   "name": "python",
   "nbconvert_exporter": "python",
   "pygments_lexer": "ipython3",
   "version": "3.9.2"
  },
  "vscode": {
   "interpreter": {
    "hash": "04d3f64a3b4064fd924ec1789481681d8cf614ac32e465ddc035ca363d369555"
   }
  }
 },
 "nbformat": 4,
 "nbformat_minor": 4
}
