{
 "cells": [
  {
   "cell_type": "markdown",
   "metadata": {},
   "source": [
    "# 04 Introduction to Fluids Module\n",
    "---\n",
    "\n",
    "## Introduction 🌊\n",
    "\n",
    "## What is Fluids?\n",
    "[![Fluids](https://img.shields.io/badge/Fluids-8CAAE6?style=flat&logo=Fluids&logoColor=black)](https://pypi.org/project/fluids/) is a free and open-source Python library used for scientific computing and technical computing.\n",
    "\n",
    "Fluids is open-source software for engineers and technicians working in the fields of chemical, mechanical, or civil engineering. It includes modules for piping, fittings, pumps, tanks, compressible flow, open-channel flow, atmospheric properties, solar properties, particle size distributions, two phase flow, friction factors, control valves, orifice plates and other flow meters, ejectors, relief valves, and more.\n",
    "\n",
    "The fluids library is designed to be a low-overhead, lightweight repository of engineering knowledge and utilities that relate to fluid dynamics.\n",
    "\n",
    "Fluids was originally tightly integrated with SciPy and NumPy; today they are optional components used for only a small amount of functionality which do not have pure-Python numerical methods implemented. Fluids targets Python 2.7 and up as well as PyPy2 and PyPy3. Additionally, fluids has been tested by the author to load in IronPython, Jython, and micropython.\n",
    "\n",
    "While the routines in Fluids are normally quite fast and as efficiently coded as possible, depending on the application there can still be a need for further speed. PyPy provides a substantial speed boost of 6-12 times for most methods. Fluids also supports Numba, a powerful accelerator that works well with NumPy. The Numba interface to fluids also makes it easy to multithread execution as well, avoiding Python GIL issue.\n",
    "\n",
    "Fluids runs on all operating systems which support Python, is quick to install, and is free of charge. Fluids is designed to be easy to use while still providing powerful functionality. If you need to perform some fluid dynamics calculations, give fluids a try."
   ]
  },
  {
   "cell_type": "code",
   "execution_count": null,
   "metadata": {},
   "outputs": [],
   "source": []
  },
  {
   "cell_type": "markdown",
   "metadata": {},
   "source": [
    "## Problem 1\n",
    "\n",
    "Water at 30 degrees Celsius flows through a 20 m length of 50 mm plastic (smooth wall) pipe, at a flow rate of 200 L/min.\n",
    "\n",
    "Calculate the Reynolds number and friction factor."
   ]
  },
  {
   "cell_type": "code",
   "execution_count": null,
   "metadata": {},
   "outputs": [],
   "source": []
  },
  {
   "cell_type": "markdown",
   "metadata": {},
   "source": [
    "## Problem 2 \n",
    "\n",
    "Fuel oil at a specific gravity of 0.815 (kinematic viscosity of 2.7 centistokes) flows at 2 inch, schedule 40 steel pipe 100 foot long at a rate of 2 US gallons/second.\n",
    "\n",
    "Calculate the pressure drop in bars and psi."
   ]
  },
  {
   "cell_type": "code",
   "execution_count": null,
   "metadata": {},
   "outputs": [],
   "source": []
  },
  {
   "cell_type": "markdown",
   "metadata": {},
   "source": [
    "## Problem 3\n",
    "\n",
    "Lube oil at 40 C is flowing at the rate of 600 barrels/hr through 60 meters of 8 inch schedule 40 pipe. Find the total line pressure drop in bar.\n",
    "\n",
    "Specific gravity : 0.90 at 40 C\n",
    "\n",
    "Viscosity : 450 cP at 40 C"
   ]
  },
  {
   "cell_type": "code",
   "execution_count": null,
   "metadata": {},
   "outputs": [],
   "source": []
  },
  {
   "cell_type": "markdown",
   "metadata": {},
   "source": [
    "## Problem 4\n",
    "\n",
    "Carbon dioxide to be conveyed from the top of stripper of ammonia plant to urea plant. Calculate the optimal pipe size required based on the following data.\n",
    "\n",
    "Flow rate of CO2 = 1000 t/day\n",
    "\n",
    "Total length of pipe = 800 m\n",
    "\n",
    "ALlowable pressure drop = 24 kPa\n",
    "\n",
    "No of 90° elbows = 8\n",
    "\n",
    "No of butterfly valve = 1\n",
    "\n",
    "Temperature of gas = 60°C\n",
    "\n",
    "Viscosity of CO2 gas = 0.016 cP\n",
    "\n",
    "Pipe schedule = 20"
   ]
  },
  {
   "cell_type": "code",
   "execution_count": null,
   "metadata": {},
   "outputs": [],
   "source": []
  },
  {
   "cell_type": "markdown",
   "metadata": {},
   "source": [
    "## Problem 5\n",
    "\n",
    "Calculate optimal line size and pressure drop for instrument air line to supply 849 kg/hr to gas engine at a pressure of 1.2 barg and temperature of 35 °C\n",
    "\n",
    "Consider line length as 200 m\n",
    "\n",
    "Consider 10 Nos 90 °C, 2 No Ball Valves, 5 Nos 45° bends, 1 NRV and 1 reducer as fittings\n",
    "\n",
    "Consider 40 pipe schedule\n",
    "\n",
    "Consider viscosity of air as 0.01065 cP "
   ]
  },
  {
   "cell_type": "code",
   "execution_count": null,
   "metadata": {},
   "outputs": [],
   "source": []
  },
  {
   "cell_type": "markdown",
   "metadata": {},
   "source": [
    "## Disclaimer : These are just examples and no real world application has been confirmed. Fluids library is very vast and complicated. Its still under development. Use at your own risk "
   ]
  }
 ],
 "metadata": {
  "kernelspec": {
   "display_name": "Python 3.9.2 64-bit",
   "language": "python",
   "name": "python3"
  },
  "language_info": {
   "codemirror_mode": {
    "name": "ipython",
    "version": 3
   },
   "file_extension": ".py",
   "mimetype": "text/x-python",
   "name": "python",
   "nbconvert_exporter": "python",
   "pygments_lexer": "ipython3",
   "version": "3.9.2"
  },
  "vscode": {
   "interpreter": {
    "hash": "04d3f64a3b4064fd924ec1789481681d8cf614ac32e465ddc035ca363d369555"
   }
  }
 },
 "nbformat": 4,
 "nbformat_minor": 4
}
